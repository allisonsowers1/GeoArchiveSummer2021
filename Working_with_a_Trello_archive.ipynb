{
  "nbformat": 4,
  "nbformat_minor": 0,
  "metadata": {
    "colab": {
      "name": "Working with a Trello archive.ipynb",
      "provenance": [],
      "authorship_tag": "ABX9TyNl84ks1brEYuTFxxKlTn0x",
      "include_colab_link": true
    },
    "kernelspec": {
      "display_name": "Python 3",
      "name": "python3"
    },
    "language_info": {
      "name": "python"
    }
  },
  "cells": [
    {
      "cell_type": "markdown",
      "metadata": {
        "id": "view-in-github",
        "colab_type": "text"
      },
      "source": [
        "<a href=\"https://colab.research.google.com/github/skybristol/GeoArchiveSummer2021/blob/main/Working_with_a_Trello_archive.ipynb\" target=\"_parent\"><img src=\"https://colab.research.google.com/assets/colab-badge.svg\" alt=\"Open In Colab\"/></a>"
      ]
    },
    {
      "cell_type": "markdown",
      "metadata": {
        "id": "090FhWdJSd3c"
      },
      "source": [
        "The purpose of this notebook is to help understand how someone could interact with an export of a Trello board (working space for tracking tasks) using software code.\n",
        "\n",
        "One of the tools we used as part of our summer project was [Trello](https://trello.com) for keeping track of our tasks. As part of our overall effort to explore open science practices, this record of what we did as part of the project is important to share. We will archive a final export from Trello in our [OSF workspace](https://osf.io/t6azp/) as part of making even this somewhat mundane aspect of running a project open and transparent. There might be useful information in the record of our tasks for others to build upon.\n",
        "\n",
        "With its free version, Trello provides an export of a given board as a JSON document. This is available via a URL for board members who are logged in. There are also ways of interfacing programmatically with Trello via an API that could provide other means of getting at the information, and there's even a [Python project](https://pypi.org/project/py-trello/) for working with Trello that could be useful. For our purposes, any interface to what we have in Trello after the project is concluded will be via the archive we save out to OSF. So, we focus our attention here on working with that file.\n",
        "\n",
        "When our OSF project is made public, we should be able to provide a way for this notebook to call up the export JSON file from the OSF files container programmatically via a web request. For now, you will need to download the JSON document (either from OSF or from Trello itself) and upload it for access from the Colab notebook as our methods below are currently expecting it to be found in the local file system."
      ]
    },
    {
      "cell_type": "code",
      "metadata": {
        "id": "Mq7kZXqlObDz"
      },
      "source": [
        "import json\n",
        "import glob\n",
        "import pandas as pd"
      ],
      "execution_count": 57,
      "outputs": []
    },
    {
      "cell_type": "markdown",
      "metadata": {
        "id": "r0OUVNLkRdqF"
      },
      "source": [
        "In this codeblock we check out local file system for the Trello export we have in our OSF project archive and load it into our notebook from JSON."
      ]
    },
    {
      "cell_type": "code",
      "metadata": {
        "id": "tntHCkEWRcFM"
      },
      "source": [
        "trello_export_file = next((i for i in glob.glob(\"TrelloExport*\")), None)\n",
        "trello_export_data = json.load(open(trello_export_file, \"r\"))\n"
      ],
      "execution_count": null,
      "outputs": []
    },
    {
      "cell_type": "markdown",
      "metadata": {
        "id": "gVW2z8eeRpUa"
      },
      "source": [
        "The basic task we want to perform is to summarize the actual useful bits of information from our Trello board into a simple data structure that anyone should be able to read and understand. To do that, we need to tease out just the most useful properties from the boards. This basically comes down to the individual cards, which have at least a name and description. Some cards have checklists, which are the individual tasks we performed, and those are useful as well. Some cards have comments in a thread.\n",
        "\n",
        "In the following codeblock, we loop through the cards first and then tease out checklists and comments, adding four simplified properties to a new set of records for each card."
      ]
    },
    {
      "cell_type": "code",
      "metadata": {
        "id": "KHs3iVBQAq3j"
      },
      "source": [
        "summary = []\n",
        "for card in trello_export_data[\"cards\"]:\n",
        "    summary_card = {\n",
        "        \"name\": card[\"name\"],\n",
        "        \"desciption\": card[\"desc\"]\n",
        "    }\n",
        "\n",
        "    if card[\"idChecklists\"]:\n",
        "        checklist_id = card[\"idChecklists\"][0]\n",
        "        checklist = next((i[\"checkItems\"] for i in trello_export_data[\"checklists\"] if i[\"id\"] == checklist_id), None)\n",
        "        summary_card[\"tasks\"] = [i[\"name\"] for i in checklist]\n",
        "\n",
        "    summary.append(summary_card)"
      ],
      "execution_count": 56,
      "outputs": []
    },
    {
      "cell_type": "markdown",
      "metadata": {
        "id": "N8d71BvqSTAK"
      },
      "source": [
        "One output we might want is a simple table with the 4 properties in our summary. We can do that in lots of ways, but pulling our list of dictionaries created in the previous step into a Pandas dataframe is a reasonable way to get there. In the following codeblock, we build the dataframe and then output it to a CSV file, which we can then upload to our OSF project archive."
      ]
    },
    {
      "cell_type": "code",
      "metadata": {
        "colab": {
          "base_uri": "https://localhost:8080/",
          "height": 421
        },
        "id": "SebSj4FrI2o4",
        "outputId": "18bd00b7-3b2f-4fca-cd59-56b81bc9a975"
      },
      "source": [
        "df_summary = pd.DataFrame(summary)\n",
        "df_summary.to_csv(\"summary.csv\", index=False)\n",
        "df_summary"
      ],
      "execution_count": 59,
      "outputs": [
        {
          "output_type": "execute_result",
          "data": {
            "text/html": [
              "<div>\n",
              "<style scoped>\n",
              "    .dataframe tbody tr th:only-of-type {\n",
              "        vertical-align: middle;\n",
              "    }\n",
              "\n",
              "    .dataframe tbody tr th {\n",
              "        vertical-align: top;\n",
              "    }\n",
              "\n",
              "    .dataframe thead th {\n",
              "        text-align: right;\n",
              "    }\n",
              "</style>\n",
              "<table border=\"1\" class=\"dataframe\">\n",
              "  <thead>\n",
              "    <tr style=\"text-align: right;\">\n",
              "      <th></th>\n",
              "      <th>name</th>\n",
              "      <th>desciption</th>\n",
              "      <th>tasks</th>\n",
              "    </tr>\n",
              "  </thead>\n",
              "  <tbody>\n",
              "    <tr>\n",
              "      <th>0</th>\n",
              "      <td>Prep work for Python exercises - week of July 12</td>\n",
              "      <td>There are a few things to set up for us to hit...</td>\n",
              "      <td>[Install the Anaconda package on Mac (https://...</td>\n",
              "    </tr>\n",
              "    <tr>\n",
              "      <th>1</th>\n",
              "      <td>Set up Zotero for bibliographic reference mana...</td>\n",
              "      <td>I should have turned us on to Zotero earlier i...</td>\n",
              "      <td>[Download and install the Zotero client softwa...</td>\n",
              "    </tr>\n",
              "    <tr>\n",
              "      <th>2</th>\n",
              "      <td>Stub out new protocol for managing mineral dev...</td>\n",
              "      <td>It will be useful to have protocols (experimen...</td>\n",
              "      <td>[Work up an initial example using your My Item...</td>\n",
              "    </tr>\n",
              "    <tr>\n",
              "      <th>3</th>\n",
              "      <td>Nail down product plans from the project and w...</td>\n",
              "      <td>An abstract for the final poster presentation ...</td>\n",
              "      <td>[Look over and become familiar with the Figsha...</td>\n",
              "    </tr>\n",
              "    <tr>\n",
              "      <th>4</th>\n",
              "      <td>Work out how to archive our Slack workspace di...</td>\n",
              "      <td>Slack has an export capability that dumps a di...</td>\n",
              "      <td>[Start wiki page describing why we are archivi...</td>\n",
              "    </tr>\n",
              "    <tr>\n",
              "      <th>5</th>\n",
              "      <td>Work out how to archive tasks from Trello in t...</td>\n",
              "      <td></td>\n",
              "      <td>NaN</td>\n",
              "    </tr>\n",
              "    <tr>\n",
              "      <th>6</th>\n",
              "      <td>Orient on the Protocols.io platform</td>\n",
              "      <td>Get started into the Protocols.io platform tow...</td>\n",
              "      <td>[Get an account and login, Create workspace an...</td>\n",
              "    </tr>\n",
              "    <tr>\n",
              "      <th>7</th>\n",
              "      <td>Orient on using Google Colab with Python code</td>\n",
              "      <td>Get into Google Colab and a start on Python co...</td>\n",
              "      <td>[Look at orientation videos from OSF space, Wo...</td>\n",
              "    </tr>\n",
              "    <tr>\n",
              "      <th>8</th>\n",
              "      <td>Review and get familiar with formal metadata</td>\n",
              "      <td>With scientific data, we write up and share de...</td>\n",
              "      <td>NaN</td>\n",
              "    </tr>\n",
              "    <tr>\n",
              "      <th>9</th>\n",
              "      <td>Work out how to organize and list any video re...</td>\n",
              "      <td></td>\n",
              "      <td>NaN</td>\n",
              "    </tr>\n",
              "    <tr>\n",
              "      <th>10</th>\n",
              "      <td>Add content to OSF project</td>\n",
              "      <td>We've added a couple of other tools to our pro...</td>\n",
              "      <td>[Add info about tracking project work in Trell...</td>\n",
              "    </tr>\n",
              "    <tr>\n",
              "      <th>11</th>\n",
              "      <td>Signup for ScienceBase account</td>\n",
              "      <td>One of the things we'll be doing is working on...</td>\n",
              "      <td>NaN</td>\n",
              "    </tr>\n",
              "  </tbody>\n",
              "</table>\n",
              "</div>"
            ],
            "text/plain": [
              "                                                 name  ...                                              tasks\n",
              "0    Prep work for Python exercises - week of July 12  ...  [Install the Anaconda package on Mac (https://...\n",
              "1   Set up Zotero for bibliographic reference mana...  ...  [Download and install the Zotero client softwa...\n",
              "2   Stub out new protocol for managing mineral dev...  ...  [Work up an initial example using your My Item...\n",
              "3   Nail down product plans from the project and w...  ...  [Look over and become familiar with the Figsha...\n",
              "4   Work out how to archive our Slack workspace di...  ...  [Start wiki page describing why we are archivi...\n",
              "5   Work out how to archive tasks from Trello in t...  ...                                                NaN\n",
              "6                 Orient on the Protocols.io platform  ...  [Get an account and login, Create workspace an...\n",
              "7       Orient on using Google Colab with Python code  ...  [Look at orientation videos from OSF space, Wo...\n",
              "8        Review and get familiar with formal metadata  ...                                                NaN\n",
              "9   Work out how to organize and list any video re...  ...                                                NaN\n",
              "10                         Add content to OSF project  ...  [Add info about tracking project work in Trell...\n",
              "11                     Signup for ScienceBase account  ...                                                NaN\n",
              "\n",
              "[12 rows x 3 columns]"
            ]
          },
          "metadata": {
            "tags": []
          },
          "execution_count": 59
        }
      ]
    }
  ]
}