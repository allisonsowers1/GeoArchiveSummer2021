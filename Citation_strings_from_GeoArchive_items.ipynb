{
  "nbformat": 4,
  "nbformat_minor": 0,
  "metadata": {
    "colab": {
      "name": "Citation strings from GeoArchive items.ipynb",
      "provenance": [],
      "authorship_tag": "ABX9TyNuVaTPZMSa7/ztWUsvvi5+",
      "include_colab_link": true
    },
    "kernelspec": {
      "name": "python3",
      "display_name": "Python 3"
    },
    "language_info": {
      "name": "python"
    }
  },
  "cells": [
    {
      "cell_type": "markdown",
      "metadata": {
        "id": "view-in-github",
        "colab_type": "text"
      },
      "source": [
        "<a href=\"https://colab.research.google.com/github/skybristol/GeoArchiveSummer2021/blob/main/Citation_strings_from_GeoArchive_items.ipynb\" target=\"_parent\"><img src=\"https://colab.research.google.com/assets/colab-badge.svg\" alt=\"Open In Colab\"/></a>"
      ]
    },
    {
      "cell_type": "markdown",
      "metadata": {
        "id": "_hU6j-inrEm8"
      },
      "source": [
        "The purpose of this notebook is to explore methods to generate standardized USGS citation strings from the ScienceBase Items where we are documenting and repositing NI 43-101 Technical Reports within the GeoArchive.\n",
        "\n",
        "Researchers using these reports as background and reference materials need to cite them for other reports and articles. USGS uses a particular citation string format laid out in a guide for authors of USGS reports. All of the information elements needed to generate these citations are included in the ScienceBase Item metadata, but authors need a quick way to generate citation strings they can drop into a report.\n",
        "\n",
        "The Zotero tool for managing bibliographic reference materials is one option for managing references. It has a built-in method for generating the specific string format used in USGS guidelines (along with many other standard formats). There are quite a number of USGS publishing authors who use Zotero already, and it is a pretty accessible option for anyone needing to work with these materials.\n",
        "\n",
        "We can go about making citation information for the GeoArchive materials available to Zotero clients in a variety of ways. One way would be to generate one or another of the structured bibliographic information that Zotero can read (many options) as a file output from reading ScienceBase information in through its API, downloading those, and then importing into any local Zotero. A more robust method would be to use Zotero's online system with a shared group (potentially mimicing the whole GeoArchive structure of multiple \"folders\"), syncing reference items programmatically to the group via the Zotero API, and then having any client connect and sync the group into their local instance. This could, conceivably, allow us to develop a dynamic system that checks ScienceBase for updates and syncs any changes on some regular schedule.\n",
        "\n",
        "This notebook explores the latter option, though simply completing the basic mapping steps needed to align ScienceBase Item metadata with the Zotero model will accomplish the hard part of getting to any reasonable citation format output.\n",
        "\n",
        "Two specific packages are needed to work through this notebook.\n",
        "* sciencebasepy is required because an authenticated session is necessary to connect to the one GeoArchive collection we've built so far with currently protected items\n",
        "* pyzotero is a Python abstraction on the Zotero API "
      ]
    },
    {
      "cell_type": "code",
      "metadata": {
        "colab": {
          "base_uri": "https://localhost:8080/"
        },
        "id": "W2afABwSmNgi",
        "outputId": "7adb2666-d6ab-403b-e8ab-623dc393a13b"
      },
      "source": [
        "!pip install sciencebasepy\n",
        "!pip install pyzotero"
      ],
      "execution_count": 1,
      "outputs": [
        {
          "output_type": "stream",
          "text": [
            "Collecting sciencebasepy\n",
            "  Downloading https://files.pythonhosted.org/packages/1a/8b/3aead3f9d3fa3ea29fdb20b563772f82088c96e4522d9b1980871c862fde/sciencebasepy-1.6.9-py3-none-any.whl\n",
            "Requirement already satisfied: requests in /usr/local/lib/python3.7/dist-packages (from sciencebasepy) (2.23.0)\n",
            "Requirement already satisfied: urllib3!=1.25.0,!=1.25.1,<1.26,>=1.21.1 in /usr/local/lib/python3.7/dist-packages (from requests->sciencebasepy) (1.24.3)\n",
            "Requirement already satisfied: chardet<4,>=3.0.2 in /usr/local/lib/python3.7/dist-packages (from requests->sciencebasepy) (3.0.4)\n",
            "Requirement already satisfied: certifi>=2017.4.17 in /usr/local/lib/python3.7/dist-packages (from requests->sciencebasepy) (2021.5.30)\n",
            "Requirement already satisfied: idna<3,>=2.5 in /usr/local/lib/python3.7/dist-packages (from requests->sciencebasepy) (2.10)\n",
            "Installing collected packages: sciencebasepy\n",
            "Successfully installed sciencebasepy-1.6.9\n",
            "Collecting pyzotero\n",
            "  Downloading https://files.pythonhosted.org/packages/e9/44/da1cacf283d0cedac32dc2e22cb88ac8462e9fd58eb5a84483a77481e4f3/Pyzotero-1.4.24-py2.py3-none-any.whl\n",
            "Collecting feedparser<6,>5.1.0\n",
            "\u001b[?25l  Downloading https://files.pythonhosted.org/packages/91/d8/7d37fec71ff7c9dbcdd80d2b48bcdd86d6af502156fc93846fb0102cb2c4/feedparser-5.2.1.tar.bz2 (192kB)\n",
            "\u001b[K     |████████████████████████████████| 194kB 7.4MB/s \n",
            "\u001b[?25hRequirement already satisfied: requests>=2.21.0 in /usr/local/lib/python3.7/dist-packages (from pyzotero) (2.23.0)\n",
            "Requirement already satisfied: pathlib in /usr/local/lib/python3.7/dist-packages (from pyzotero) (1.0.1)\n",
            "Collecting bibtexparser\n",
            "\u001b[?25l  Downloading https://files.pythonhosted.org/packages/7c/c3/c184a4460ba2f4877e3389e2d63479f642d0d3bdffeeffee0723d3b0156d/bibtexparser-1.2.0.tar.gz (46kB)\n",
            "\u001b[K     |████████████████████████████████| 51kB 5.8MB/s \n",
            "\u001b[?25hRequirement already satisfied: pytz in /usr/local/lib/python3.7/dist-packages (from pyzotero) (2018.9)\n",
            "Requirement already satisfied: certifi>=2017.4.17 in /usr/local/lib/python3.7/dist-packages (from requests>=2.21.0->pyzotero) (2021.5.30)\n",
            "Requirement already satisfied: chardet<4,>=3.0.2 in /usr/local/lib/python3.7/dist-packages (from requests>=2.21.0->pyzotero) (3.0.4)\n",
            "Requirement already satisfied: idna<3,>=2.5 in /usr/local/lib/python3.7/dist-packages (from requests>=2.21.0->pyzotero) (2.10)\n",
            "Requirement already satisfied: urllib3!=1.25.0,!=1.25.1,<1.26,>=1.21.1 in /usr/local/lib/python3.7/dist-packages (from requests>=2.21.0->pyzotero) (1.24.3)\n",
            "Requirement already satisfied: pyparsing>=2.0.3 in /usr/local/lib/python3.7/dist-packages (from bibtexparser->pyzotero) (2.4.7)\n",
            "Requirement already satisfied: future>=0.16.0 in /usr/local/lib/python3.7/dist-packages (from bibtexparser->pyzotero) (0.16.0)\n",
            "Building wheels for collected packages: feedparser, bibtexparser\n",
            "  Building wheel for feedparser (setup.py) ... \u001b[?25l\u001b[?25hdone\n",
            "  Created wheel for feedparser: filename=feedparser-5.2.1-cp37-none-any.whl size=44954 sha256=96998567359cdaf3e2f80a2e1422638a5c35615b9c277f232956165d888208d2\n",
            "  Stored in directory: /root/.cache/pip/wheels/8c/69/b7/f52763c41c5471df57703a0ef718a32a5e81ee35dcf6d4f97f\n",
            "  Building wheel for bibtexparser (setup.py) ... \u001b[?25l\u001b[?25hdone\n",
            "  Created wheel for bibtexparser: filename=bibtexparser-1.2.0-cp37-none-any.whl size=36712 sha256=2bac3fea504c42f024e6328238755a404a1b6c43f3e9400c48e5f1795f7fbbba\n",
            "  Stored in directory: /root/.cache/pip/wheels/b2/5a/e7/867bcbc3a81c15b675b931aa19b6698375c5a5e90419a366db\n",
            "Successfully built feedparser bibtexparser\n",
            "Installing collected packages: feedparser, bibtexparser, pyzotero\n",
            "Successfully installed bibtexparser-1.2.0 feedparser-5.2.1 pyzotero-1.4.24\n"
          ],
          "name": "stdout"
        }
      ]
    },
    {
      "cell_type": "code",
      "metadata": {
        "id": "8kOZSpV_maJB"
      },
      "source": [
        "from sciencebasepy import SbSession\n",
        "from pyzotero import zotero\n",
        "from getpass import getpass"
      ],
      "execution_count": 2,
      "outputs": []
    },
    {
      "cell_type": "markdown",
      "metadata": {
        "id": "1NV19wQki05N"
      },
      "source": [
        "A Zotero client connection needs to be established to work with the system. This can either point at a user or group library (\"Library Type\") and needs to supply the ID for the Library and an API Key that has to be generated for whatever application is making the connection. We put all of these into prompts to allow someone running this notebook to use their own specific information and settings."
      ]
    },
    {
      "cell_type": "code",
      "metadata": {
        "colab": {
          "base_uri": "https://localhost:8080/"
        },
        "id": "5Ywm_433Yunq",
        "outputId": "bbed14df-acd2-48ea-d72b-0f17272a39ed"
      },
      "source": [
        "zot = zotero.Zotero(input(\"Library ID \"), input(\"Library Type \"), getpass(prompt=\"API Key \"))"
      ],
      "execution_count": 3,
      "outputs": [
        {
          "output_type": "stream",
          "text": [
            "Library ID 4373054\n",
            "Library Type group\n",
            "API Key ··········\n"
          ],
          "name": "stdout"
        }
      ]
    },
    {
      "cell_type": "markdown",
      "metadata": {
        "id": "Vg6a2eLkjRr4"
      },
      "source": [
        "One of the first things to figure out, if we're going to push items into Zotero, is what item type we would use. There's a function to output those from the API that we can look over. For our immediate use case, there is a \"report\" type that seems like it would fit our need for the NI 43-101 Technical Reports."
      ]
    },
    {
      "cell_type": "code",
      "metadata": {
        "colab": {
          "base_uri": "https://localhost:8080/"
        },
        "id": "Bj7FTZHrZEWd",
        "outputId": "474136af-f79b-4b9d-e3c8-4eabb2217aba"
      },
      "source": [
        "zot.item_types()"
      ],
      "execution_count": 4,
      "outputs": [
        {
          "output_type": "execute_result",
          "data": {
            "text/plain": [
              "[{'itemType': 'artwork', 'localized': 'Artwork'},\n",
              " {'itemType': 'audioRecording', 'localized': 'Audio Recording'},\n",
              " {'itemType': 'bill', 'localized': 'Bill'},\n",
              " {'itemType': 'blogPost', 'localized': 'Blog Post'},\n",
              " {'itemType': 'book', 'localized': 'Book'},\n",
              " {'itemType': 'bookSection', 'localized': 'Book Section'},\n",
              " {'itemType': 'case', 'localized': 'Case'},\n",
              " {'itemType': 'computerProgram', 'localized': 'Computer Program'},\n",
              " {'itemType': 'conferencePaper', 'localized': 'Conference Paper'},\n",
              " {'itemType': 'dictionaryEntry', 'localized': 'Dictionary Entry'},\n",
              " {'itemType': 'document', 'localized': 'Document'},\n",
              " {'itemType': 'email', 'localized': 'E-mail'},\n",
              " {'itemType': 'encyclopediaArticle', 'localized': 'Encyclopedia Article'},\n",
              " {'itemType': 'film', 'localized': 'Film'},\n",
              " {'itemType': 'forumPost', 'localized': 'Forum Post'},\n",
              " {'itemType': 'hearing', 'localized': 'Hearing'},\n",
              " {'itemType': 'instantMessage', 'localized': 'Instant Message'},\n",
              " {'itemType': 'interview', 'localized': 'Interview'},\n",
              " {'itemType': 'journalArticle', 'localized': 'Journal Article'},\n",
              " {'itemType': 'letter', 'localized': 'Letter'},\n",
              " {'itemType': 'magazineArticle', 'localized': 'Magazine Article'},\n",
              " {'itemType': 'manuscript', 'localized': 'Manuscript'},\n",
              " {'itemType': 'map', 'localized': 'Map'},\n",
              " {'itemType': 'newspaperArticle', 'localized': 'Newspaper Article'},\n",
              " {'itemType': 'note', 'localized': 'Note'},\n",
              " {'itemType': 'patent', 'localized': 'Patent'},\n",
              " {'itemType': 'podcast', 'localized': 'Podcast'},\n",
              " {'itemType': 'presentation', 'localized': 'Presentation'},\n",
              " {'itemType': 'radioBroadcast', 'localized': 'Radio Broadcast'},\n",
              " {'itemType': 'report', 'localized': 'Report'},\n",
              " {'itemType': 'statute', 'localized': 'Statute'},\n",
              " {'itemType': 'tvBroadcast', 'localized': 'TV Broadcast'},\n",
              " {'itemType': 'thesis', 'localized': 'Thesis'},\n",
              " {'itemType': 'videoRecording', 'localized': 'Video Recording'},\n",
              " {'itemType': 'webpage', 'localized': 'Web Page'}]"
            ]
          },
          "metadata": {
            "tags": []
          },
          "execution_count": 4
        }
      ]
    },
    {
      "cell_type": "markdown",
      "metadata": {
        "id": "3SBkeIJWjlie"
      },
      "source": [
        "The bulk of our work here will really be in figuring out which ScienceBase Item metadata fields should go into what Zotero fields. We would want to both create a complete citation but also provide as much information as possible from what we are developing out in ScienceBase that a user will be able to simply use the group library in Zotero itself to navigate the collection and find what they need. This would include links back into ScienceBase to retrieve the actual PDF file for an item as well as descriptive information we've put into tags.\n",
        "\n",
        "The following codeblock runs a function to show us all of the available fields on any Zotero item type."
      ]
    },
    {
      "cell_type": "code",
      "metadata": {
        "colab": {
          "base_uri": "https://localhost:8080/"
        },
        "id": "J_UIDihuZ-Wn",
        "outputId": "74916b1b-04e3-44b5-bcf7-5f46dd321048"
      },
      "source": [
        "zot.item_fields()"
      ],
      "execution_count": 5,
      "outputs": [
        {
          "output_type": "execute_result",
          "data": {
            "text/plain": [
              "[{'field': 'numPages', 'localized': '# of Pages'},\n",
              " {'field': 'numberOfVolumes', 'localized': '# of Volumes'},\n",
              " {'field': 'abstractNote', 'localized': 'Abstract'},\n",
              " {'field': 'accessDate', 'localized': 'Accessed'},\n",
              " {'field': 'applicationNumber', 'localized': 'Application Number'},\n",
              " {'field': 'archive', 'localized': 'Archive'},\n",
              " {'field': 'artworkSize', 'localized': 'Artwork Size'},\n",
              " {'field': 'assignee', 'localized': 'Assignee'},\n",
              " {'field': 'billNumber', 'localized': 'Bill Number'},\n",
              " {'field': 'blogTitle', 'localized': 'Blog Title'},\n",
              " {'field': 'bookTitle', 'localized': 'Book Title'},\n",
              " {'field': 'callNumber', 'localized': 'Call Number'},\n",
              " {'field': 'caseName', 'localized': 'Case Name'},\n",
              " {'field': 'code', 'localized': 'Code'},\n",
              " {'field': 'codeNumber', 'localized': 'Code Number'},\n",
              " {'field': 'codePages', 'localized': 'Code Pages'},\n",
              " {'field': 'codeVolume', 'localized': 'Code Volume'},\n",
              " {'field': 'committee', 'localized': 'Committee'},\n",
              " {'field': 'company', 'localized': 'Company'},\n",
              " {'field': 'conferenceName', 'localized': 'Conference Name'},\n",
              " {'field': 'country', 'localized': 'Country'},\n",
              " {'field': 'court', 'localized': 'Court'},\n",
              " {'field': 'DOI', 'localized': 'DOI'},\n",
              " {'field': 'date', 'localized': 'Date'},\n",
              " {'field': 'dateDecided', 'localized': 'Date Decided'},\n",
              " {'field': 'dateEnacted', 'localized': 'Date Enacted'},\n",
              " {'field': 'dictionaryTitle', 'localized': 'Dictionary Title'},\n",
              " {'field': 'distributor', 'localized': 'Distributor'},\n",
              " {'field': 'docketNumber', 'localized': 'Docket Number'},\n",
              " {'field': 'documentNumber', 'localized': 'Document Number'},\n",
              " {'field': 'edition', 'localized': 'Edition'},\n",
              " {'field': 'encyclopediaTitle', 'localized': 'Encyclopedia Title'},\n",
              " {'field': 'episodeNumber', 'localized': 'Episode Number'},\n",
              " {'field': 'extra', 'localized': 'Extra'},\n",
              " {'field': 'audioFileType', 'localized': 'File Type'},\n",
              " {'field': 'filingDate', 'localized': 'Filing Date'},\n",
              " {'field': 'firstPage', 'localized': 'First Page'},\n",
              " {'field': 'audioRecordingFormat', 'localized': 'Format'},\n",
              " {'field': 'videoRecordingFormat', 'localized': 'Format'},\n",
              " {'field': 'forumTitle', 'localized': 'Forum/Listserv Title'},\n",
              " {'field': 'genre', 'localized': 'Genre'},\n",
              " {'field': 'history', 'localized': 'History'},\n",
              " {'field': 'ISBN', 'localized': 'ISBN'},\n",
              " {'field': 'ISSN', 'localized': 'ISSN'},\n",
              " {'field': 'institution', 'localized': 'Institution'},\n",
              " {'field': 'issue', 'localized': 'Issue'},\n",
              " {'field': 'issueDate', 'localized': 'Issue Date'},\n",
              " {'field': 'issuingAuthority', 'localized': 'Issuing Authority'},\n",
              " {'field': 'journalAbbreviation', 'localized': 'Journal Abbr'},\n",
              " {'field': 'label', 'localized': 'Label'},\n",
              " {'field': 'language', 'localized': 'Language'},\n",
              " {'field': 'programmingLanguage', 'localized': 'Language'},\n",
              " {'field': 'legalStatus', 'localized': 'Legal Status'},\n",
              " {'field': 'legislativeBody', 'localized': 'Legislative Body'},\n",
              " {'field': 'libraryCatalog', 'localized': 'Library Catalog'},\n",
              " {'field': 'archiveLocation', 'localized': 'Loc. in Archive'},\n",
              " {'field': 'interviewMedium', 'localized': 'Medium'},\n",
              " {'field': 'artworkMedium', 'localized': 'Medium'},\n",
              " {'field': 'meetingName', 'localized': 'Meeting Name'},\n",
              " {'field': 'nameOfAct', 'localized': 'Name of Act'},\n",
              " {'field': 'network', 'localized': 'Network'},\n",
              " {'field': 'pages', 'localized': 'Pages'},\n",
              " {'field': 'patentNumber', 'localized': 'Patent Number'},\n",
              " {'field': 'place', 'localized': 'Place'},\n",
              " {'field': 'postType', 'localized': 'Post Type'},\n",
              " {'field': 'priorityNumbers', 'localized': 'Priority Numbers'},\n",
              " {'field': 'proceedingsTitle', 'localized': 'Proceedings Title'},\n",
              " {'field': 'programTitle', 'localized': 'Program Title'},\n",
              " {'field': 'publicLawNumber', 'localized': 'Public Law Number'},\n",
              " {'field': 'publicationTitle', 'localized': 'Publication'},\n",
              " {'field': 'publisher', 'localized': 'Publisher'},\n",
              " {'field': 'references', 'localized': 'References'},\n",
              " {'field': 'reportNumber', 'localized': 'Report Number'},\n",
              " {'field': 'reportType', 'localized': 'Report Type'},\n",
              " {'field': 'reporter', 'localized': 'Reporter'},\n",
              " {'field': 'reporterVolume', 'localized': 'Reporter Volume'},\n",
              " {'field': 'rights', 'localized': 'Rights'},\n",
              " {'field': 'runningTime', 'localized': 'Running Time'},\n",
              " {'field': 'scale', 'localized': 'Scale'},\n",
              " {'field': 'section', 'localized': 'Section'},\n",
              " {'field': 'series', 'localized': 'Series'},\n",
              " {'field': 'seriesNumber', 'localized': 'Series Number'},\n",
              " {'field': 'seriesText', 'localized': 'Series Text'},\n",
              " {'field': 'seriesTitle', 'localized': 'Series Title'},\n",
              " {'field': 'session', 'localized': 'Session'},\n",
              " {'field': 'shortTitle', 'localized': 'Short Title'},\n",
              " {'field': 'studio', 'localized': 'Studio'},\n",
              " {'field': 'subject', 'localized': 'Subject'},\n",
              " {'field': 'system', 'localized': 'System'},\n",
              " {'field': 'title', 'localized': 'Title'},\n",
              " {'field': 'thesisType', 'localized': 'Type'},\n",
              " {'field': 'presentationType', 'localized': 'Type'},\n",
              " {'field': 'mapType', 'localized': 'Type'},\n",
              " {'field': 'manuscriptType', 'localized': 'Type'},\n",
              " {'field': 'letterType', 'localized': 'Type'},\n",
              " {'field': 'url', 'localized': 'URL'},\n",
              " {'field': 'university', 'localized': 'University'},\n",
              " {'field': 'versionNumber', 'localized': 'Version'},\n",
              " {'field': 'volume', 'localized': 'Volume'},\n",
              " {'field': 'websiteTitle', 'localized': 'Website Title'},\n",
              " {'field': 'websiteType', 'localized': 'Website Type'}]"
            ]
          },
          "metadata": {
            "tags": []
          },
          "execution_count": 5
        }
      ]
    },
    {
      "cell_type": "markdown",
      "metadata": {
        "id": "UN7gDuV3kKvq"
      },
      "source": [
        "Zotero uses a model where there are specific fields that are valid for each item type. If we want to hone in on the \"report\" item type, then we'll need to use those fields that are valid for that item type. The following codeblock calls a function that outputs a template (a \"blank\" Python dictionary) for the report item type, giving us the fields of information we have available to us to map from ScienceBase and fill in."
      ]
    },
    {
      "cell_type": "code",
      "metadata": {
        "colab": {
          "base_uri": "https://localhost:8080/"
        },
        "id": "ILtF5FBdaVU7",
        "outputId": "2299e0af-adad-4046-f6df-70284f5a2ba0"
      },
      "source": [
        "zot.item_template('report')"
      ],
      "execution_count": 6,
      "outputs": [
        {
          "output_type": "execute_result",
          "data": {
            "text/plain": [
              "{'abstractNote': '',\n",
              " 'accessDate': '',\n",
              " 'archive': '',\n",
              " 'archiveLocation': '',\n",
              " 'callNumber': '',\n",
              " 'collections': [],\n",
              " 'creators': [{'creatorType': 'author', 'firstName': '', 'lastName': ''}],\n",
              " 'date': '',\n",
              " 'extra': '',\n",
              " 'institution': '',\n",
              " 'itemType': 'report',\n",
              " 'language': '',\n",
              " 'libraryCatalog': '',\n",
              " 'pages': '',\n",
              " 'place': '',\n",
              " 'relations': {},\n",
              " 'reportNumber': '',\n",
              " 'reportType': '',\n",
              " 'rights': '',\n",
              " 'seriesTitle': '',\n",
              " 'shortTitle': '',\n",
              " 'tags': [],\n",
              " 'title': '',\n",
              " 'url': ''}"
            ]
          },
          "metadata": {
            "tags": []
          },
          "execution_count": 6
        }
      ]
    },
    {
      "cell_type": "markdown",
      "metadata": {
        "id": "69BljzHBz-E1"
      },
      "source": [
        "So far, I've taken a single report and set up a more complete template in the GeoArchive group library. This is shown here to start working out specifics on how we will map what we have from the original inventory spreadsheet and now in ScienceBase to the Zotero report item type model. There is quite a bit of content needed to create a full citation that is missing and needs to be extracted in some way (human or algorithm) from the reports themselves (e.g., actual title of the report, author names, dates). We may have to start with what we have and then work at filling in the blanks.\n",
        "\n",
        "Going the Zotero route for direct management of the archive would mean that we'd have a stable, accessible platform for both people and software to act against. Group members can be added to use the Zotero interface (web or desktop clients) to manage items, and we can use the API to feed back extracted data.\n",
        "\n",
        "Here is what a USGS formatted citation string would look like for this particular item.\n",
        "\n",
        "F. Ghazanfari, B. T. Hennessey, L. Pignatari, T.R. Raponi, I. Dymov, P. C. Rodriguez, and A. Wheeler, 2020, Updated Feasibility Study Technical Report (NI 43-101) for the Almas Gold Project, Almas Municipality, Tocantins, Brazil: Aura Minerals, 360 Mining feasibility study, 459 p., accessed at https://www.sciencebase.gov/catalog/file/get/60d20afad34e86b938ada670?f=__disk__31%2F22%2F7f%2F31227f86e158c963d891341a44f78d136aebd0c2.\n"
      ]
    },
    {
      "cell_type": "code",
      "metadata": {
        "colab": {
          "base_uri": "https://localhost:8080/"
        },
        "id": "hOiifvsTzXVC",
        "outputId": "2e32bba8-1adf-4351-fb81-3af07c089ca2"
      },
      "source": [
        "zot.top(limit=5)"
      ],
      "execution_count": 8,
      "outputs": [
        {
          "output_type": "execute_result",
          "data": {
            "text/plain": [
              "[{'data': {'abstractNote': '',\n",
              "   'accessDate': '',\n",
              "   'archive': 'ScienceBase',\n",
              "   'archiveLocation': 'https://www.sciencebase.gov/catalog/item/60d20afad34e86b938ada670',\n",
              "   'callNumber': '',\n",
              "   'collections': ['L56BFTCE'],\n",
              "   'creators': [{'creatorType': 'author', 'name': 'F. Ghazanfari'},\n",
              "    {'creatorType': 'author', 'name': 'B. T. Hennessey'},\n",
              "    {'creatorType': 'author', 'name': 'L. Pignatari'},\n",
              "    {'creatorType': 'author', 'name': 'T.R. Raponi'},\n",
              "    {'creatorType': 'author', 'name': 'I. Dymov'},\n",
              "    {'creatorType': 'author', 'name': 'P. C. Rodriguez'},\n",
              "    {'creatorType': 'author', 'name': 'A. Wheeler'}],\n",
              "   'date': '12/31/2020',\n",
              "   'dateAdded': '2021-07-16T14:09:49Z',\n",
              "   'dateModified': '2021-07-16T14:33:15Z',\n",
              "   'extra': '',\n",
              "   'institution': 'Aura Minerals, 360 Mining',\n",
              "   'itemType': 'report',\n",
              "   'key': 'QPXCGSSE',\n",
              "   'language': 'en',\n",
              "   'libraryCatalog': '',\n",
              "   'pages': '459',\n",
              "   'place': 'Almas Mincipality, Tocantins, Brazil',\n",
              "   'relations': {},\n",
              "   'reportNumber': '',\n",
              "   'reportType': 'NI [Canadian National Instrument] 43-101 technical report',\n",
              "   'rights': '',\n",
              "   'seriesTitle': 'feasibility study',\n",
              "   'shortTitle': 'NI 43-101 Technical Report (feasibility study) for the Almas project in Brazil',\n",
              "   'tags': [{'tag': 'Almas project'}, {'tag': 'gold'}],\n",
              "   'title': 'Updated Feasibility Study Technical Report (NI 43-101) for the Almas Gold Project, Almas Municipality, Tocantins, Brazil',\n",
              "   'url': 'https://www.sciencebase.gov/catalog/file/get/60d20afad34e86b938ada670?f=__disk__31%2F22%2F7f%2F31227f86e158c963d891341a44f78d136aebd0c2',\n",
              "   'version': 14},\n",
              "  'key': 'QPXCGSSE',\n",
              "  'library': {'id': 4373054,\n",
              "   'links': {'alternate': {'href': 'https://www.zotero.org/groups/geoarchive',\n",
              "     'type': 'text/html'}},\n",
              "   'name': 'GeoArchive',\n",
              "   'type': 'group'},\n",
              "  'links': {'alternate': {'href': 'https://www.zotero.org/groups/geoarchive/items/QPXCGSSE',\n",
              "    'type': 'text/html'},\n",
              "   'self': {'href': 'https://api.zotero.org/groups/4373054/items/QPXCGSSE',\n",
              "    'type': 'application/json'}},\n",
              "  'meta': {'createdByUser': {'id': 1119084,\n",
              "    'links': {'alternate': {'href': 'https://www.zotero.org/skybristol',\n",
              "      'type': 'text/html'}},\n",
              "    'name': 'Sky Bristol',\n",
              "    'username': 'skybristol'},\n",
              "   'creatorSummary': 'F. Ghazanfari et al.',\n",
              "   'numChildren': 0,\n",
              "   'parsedDate': '2020-12-31'},\n",
              "  'version': 14}]"
            ]
          },
          "metadata": {
            "tags": []
          },
          "execution_count": 8
        }
      ]
    },
    {
      "cell_type": "markdown",
      "metadata": {
        "id": "DEkoCLiIk3oT"
      },
      "source": [
        "Now that we have a basic idea of what we're shooting for to send items into Zotero, we need to look at our source material and figure out a mapping. We need to figure out if we've captured everything for our ScienceBase Items that we need to build a full citation to the reports in Zotero and provide some additional things like tags that will help people navigate the Zotero library and find what they are looking for.\n",
        "\n",
        "Because our one collection in the GeoArchive is currently restricted, we need to login to ScienceBase using sciencebasepy and establish a secure connection to the ScienceBase API. We can then start with the ID for the open and accessible top level collection and get the one child ID that we want to work against. (A more robust method will be needed when we have multiple virtual collections operating.)"
      ]
    },
    {
      "cell_type": "code",
      "metadata": {
        "colab": {
          "base_uri": "https://localhost:8080/"
        },
        "id": "aa1_ecvImmDq",
        "outputId": "bb7fc2b9-7730-4372-fd0b-adbc28bbcc69"
      },
      "source": [
        "sb = SbSession()\n",
        "sb.loginc(input(\"User Name:\"))"
      ],
      "execution_count": 14,
      "outputs": [
        {
          "output_type": "stream",
          "text": [
            "User Name:sbristol@usgs.gov\n",
            "··········\n",
            "Invalid password, try again\n",
            "··········\n"
          ],
          "name": "stdout"
        },
        {
          "output_type": "execute_result",
          "data": {
            "text/plain": [
              "<sciencebasepy.SbSession.SbSession at 0x7fc333aca610>"
            ]
          },
          "metadata": {
            "tags": []
          },
          "execution_count": 14
        }
      ]
    },
    {
      "cell_type": "code",
      "metadata": {
        "id": "fn1Ui1wxm7Yo"
      },
      "source": [
        "geoarchive_item = \"607ef112d34e8564d6809e58\"\n",
        "disclosure_reports_collection = sb.get_child_ids(geoarchive_item)[0]"
      ],
      "execution_count": 15,
      "outputs": []
    },
    {
      "cell_type": "markdown",
      "metadata": {
        "id": "NL4vD_x-lqE3"
      },
      "source": [
        "Now we can get all of the items within the one parent collection and the fields for those items where we have stored any information currently. We can then work out way through those items, create a logical mapping to the Zotero template we've chosen, and see how things line out. We should be able to send in a sampling of items via the API and see how they are going to work for our purposes."
      ]
    },
    {
      "cell_type": "code",
      "metadata": {
        "id": "zTyLP7VAnmJN"
      },
      "source": [
        "disclosure_reports = list()\n",
        "items = sb.find_items(\n",
        "    {\n",
        "        'parentId': disclosure_reports_collection, \n",
        "        'max': 1000,\n",
        "        'fields': 'title,subtitle,contacts,dates,extensions,files,tags'\n",
        "     }\n",
        ")\n",
        "while items and 'items' in items:\n",
        "    if items:\n",
        "        disclosure_reports.extend(items[\"items\"])\n",
        "    items = sb.next(items)"
      ],
      "execution_count": 18,
      "outputs": []
    },
    {
      "cell_type": "code",
      "metadata": {
        "colab": {
          "base_uri": "https://localhost:8080/"
        },
        "id": "bBZPOSXRoXOb",
        "outputId": "21954b60-db78-45f6-fdcc-e82d71f4b50b"
      },
      "source": [
        "disclosure_reports[0]"
      ],
      "execution_count": 19,
      "outputs": [
        {
          "output_type": "execute_result",
          "data": {
            "text/plain": [
              "{'dates': [{'dateString': '2021-06-22T10:06:49.442-06:00',\n",
              "   'label': 'Date Created',\n",
              "   'type': 'dateCreated'},\n",
              "  {'dateString': '2021-07-01T07:47:58.405-06:00',\n",
              "   'label': 'Last Updated',\n",
              "   'type': 'lastUpdated'}],\n",
              " 'files': [{'contentType': 'application/pdf',\n",
              "   'dateUploaded': '2021-07-01T13:47:58.401Z',\n",
              "   'downloadUri': 'https://www.sciencebase.gov/catalog/file/get/60d20a99d34e86b938ada3a3?f=__disk__5e%2F7a%2Fad%2F5e7aad545e458b3688a942ef31519b63cf525a17',\n",
              "   'name': 'Rozino Au 8-2020.pdf',\n",
              "   'pathOnDisk': '__disk__5e/7a/ad/5e7aad545e458b3688a942ef31519b63cf525a17',\n",
              "   'size': 21932906,\n",
              "   'uploadedBy': 'sbristol@usgs.gov',\n",
              "   'url': 'https://www.sciencebase.gov/catalog/file/get/60d20a99d34e86b938ada3a3?f=__disk__5e%2F7a%2Fad%2F5e7aad545e458b3688a942ef31519b63cf525a17'}],\n",
              " 'id': '60d20a99d34e86b938ada3a3',\n",
              " 'link': {'rel': 'self',\n",
              "  'url': 'https://www.sciencebase.gov/catalog/item/60d20a99d34e86b938ada3a3'},\n",
              " 'relatedItems': {'link': {'rel': 'related',\n",
              "   'url': 'https://www.sciencebase.gov/catalog/itemLinks?itemId=60d20a99d34e86b938ada3a3'}},\n",
              " 'tags': [{'name': 'Bulgaria',\n",
              "   'scheme': 'http://www.wikidata.org/entity/Q219',\n",
              "   'type': 'Place'},\n",
              "  {'name': 'gold',\n",
              "   'scheme': 'http://www.wikidata.org/entity/Q897',\n",
              "   'type': 'Commodity'},\n",
              "  {'name': 'NI 43-101 preliminary feasibility study', 'type': 'Document Type'},\n",
              "  {'name': 'Rozino', 'type': 'Mineral Development Project'}],\n",
              " 'title': 'NI 43-101 Technical Report (preliminary feasibility study) for the Rozino project in Bulgaria'}"
            ]
          },
          "metadata": {
            "tags": []
          },
          "execution_count": 19
        }
      ]
    }
  ]
}