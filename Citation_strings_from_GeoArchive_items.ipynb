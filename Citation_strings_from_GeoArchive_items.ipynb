{
  "nbformat": 4,
  "nbformat_minor": 0,
  "metadata": {
    "colab": {
      "name": "Citation strings from GeoArchive items.ipynb",
      "provenance": [],
      "authorship_tag": "ABX9TyNc76Zm0Jr3ssbdqyiZG6ln",
      "include_colab_link": true
    },
    "kernelspec": {
      "name": "python3",
      "display_name": "Python 3"
    },
    "language_info": {
      "name": "python"
    }
  },
  "cells": [
    {
      "cell_type": "markdown",
      "metadata": {
        "id": "view-in-github",
        "colab_type": "text"
      },
      "source": [
        "<a href=\"https://colab.research.google.com/github/skybristol/GeoArchiveSummer2021/blob/main/Citation_strings_from_GeoArchive_items.ipynb\" target=\"_parent\"><img src=\"https://colab.research.google.com/assets/colab-badge.svg\" alt=\"Open In Colab\"/></a>"
      ]
    },
    {
      "cell_type": "code",
      "metadata": {
        "colab": {
          "base_uri": "https://localhost:8080/"
        },
        "id": "W2afABwSmNgi",
        "outputId": "c6aaa22b-3aaf-40d4-901e-4663a59ebccf"
      },
      "source": [
        "!pip install sciencebasepy"
      ],
      "execution_count": 1,
      "outputs": [
        {
          "output_type": "stream",
          "text": [
            "Collecting sciencebasepy\n",
            "  Downloading https://files.pythonhosted.org/packages/1a/8b/3aead3f9d3fa3ea29fdb20b563772f82088c96e4522d9b1980871c862fde/sciencebasepy-1.6.9-py3-none-any.whl\n",
            "Requirement already satisfied: requests in /usr/local/lib/python3.7/dist-packages (from sciencebasepy) (2.23.0)\n",
            "Requirement already satisfied: certifi>=2017.4.17 in /usr/local/lib/python3.7/dist-packages (from requests->sciencebasepy) (2021.5.30)\n",
            "Requirement already satisfied: chardet<4,>=3.0.2 in /usr/local/lib/python3.7/dist-packages (from requests->sciencebasepy) (3.0.4)\n",
            "Requirement already satisfied: idna<3,>=2.5 in /usr/local/lib/python3.7/dist-packages (from requests->sciencebasepy) (2.10)\n",
            "Requirement already satisfied: urllib3!=1.25.0,!=1.25.1,<1.26,>=1.21.1 in /usr/local/lib/python3.7/dist-packages (from requests->sciencebasepy) (1.24.3)\n",
            "Installing collected packages: sciencebasepy\n",
            "Successfully installed sciencebasepy-1.6.9\n"
          ],
          "name": "stdout"
        }
      ]
    },
    {
      "cell_type": "code",
      "metadata": {
        "id": "8kOZSpV_maJB"
      },
      "source": [
        "from sciencebasepy import SbSession"
      ],
      "execution_count": 2,
      "outputs": []
    },
    {
      "cell_type": "code",
      "metadata": {
        "id": "eUDmd9PNmhnF"
      },
      "source": [
        "sb = SbSession()"
      ],
      "execution_count": 3,
      "outputs": []
    },
    {
      "cell_type": "code",
      "metadata": {
        "colab": {
          "base_uri": "https://localhost:8080/"
        },
        "id": "aa1_ecvImmDq",
        "outputId": "66f4644b-d432-4fc8-9486-8fbdcdcc53ab"
      },
      "source": [
        "sb.loginc(input(\"User Name:\"))"
      ],
      "execution_count": 4,
      "outputs": [
        {
          "output_type": "stream",
          "text": [
            "User Name:sbristol@usgs.gov\n",
            "··········\n"
          ],
          "name": "stdout"
        },
        {
          "output_type": "execute_result",
          "data": {
            "text/plain": [
              "<sciencebasepy.SbSession.SbSession at 0x7ff6745a7e10>"
            ]
          },
          "metadata": {
            "tags": []
          },
          "execution_count": 4
        }
      ]
    },
    {
      "cell_type": "code",
      "metadata": {
        "id": "fn1Ui1wxm7Yo"
      },
      "source": [
        "geoarchive_item = \"607ef112d34e8564d6809e58\"\n",
        "disclosure_reports_collection = sb.get_child_ids(geoarchive_item)[0]"
      ],
      "execution_count": 6,
      "outputs": []
    },
    {
      "cell_type": "code",
      "metadata": {
        "id": "zTyLP7VAnmJN"
      },
      "source": [
        "disclosure_reports = list()\n",
        "items = sb.find_items(\n",
        "    {\n",
        "        'parentId': disclosure_reports_collection, \n",
        "        'max': 1000\n",
        "     }\n",
        ")\n",
        "while items and 'items' in items:\n",
        "    if items:\n",
        "        disclosure_reports.extend(items)\n",
        "    items = sb.next(items)"
      ],
      "execution_count": null,
      "outputs": []
    },
    {
      "cell_type": "code",
      "metadata": {
        "colab": {
          "base_uri": "https://localhost:8080/",
          "height": 164
        },
        "id": "bBZPOSXRoXOb",
        "outputId": "9345c674-ac3e-415a-df07-1ee17432cd78"
      },
      "source": [
        "len(disclosure_reports)"
      ],
      "execution_count": 8,
      "outputs": [
        {
          "output_type": "error",
          "ename": "TypeError",
          "evalue": "ignored",
          "traceback": [
            "\u001b[0;31m---------------------------------------------------------------------------\u001b[0m",
            "\u001b[0;31mTypeError\u001b[0m                                 Traceback (most recent call last)",
            "\u001b[0;32m<ipython-input-8-4bbc9a95c99b>\u001b[0m in \u001b[0;36m<module>\u001b[0;34m()\u001b[0m\n\u001b[0;32m----> 1\u001b[0;31m \u001b[0mlen\u001b[0m\u001b[0;34m(\u001b[0m\u001b[0mitems\u001b[0m\u001b[0;34m)\u001b[0m\u001b[0;34m\u001b[0m\u001b[0;34m\u001b[0m\u001b[0m\n\u001b[0m",
            "\u001b[0;31mTypeError\u001b[0m: object of type 'NoneType' has no len()"
          ]
        }
      ]
    }
  ]
}